{
  "nbformat": 4,
  "nbformat_minor": 0,
  "metadata": {
    "colab": {
      "provenance": [],
      "authorship_tag": "ABX9TyOtHbZUScvbAfQK5wWnfYtP",
      "include_colab_link": true
    },
    "kernelspec": {
      "name": "python3",
      "display_name": "Python 3"
    },
    "language_info": {
      "name": "python"
    }
  },
  "cells": [
    {
      "cell_type": "markdown",
      "metadata": {
        "id": "view-in-github",
        "colab_type": "text"
      },
      "source": [
        "<a href=\"https://colab.research.google.com/github/skemprecos/DS1002-nhv7mp/blob/main/simple-demo.ipynb\" target=\"_parent\"><img src=\"https://colab.research.google.com/assets/colab-badge.svg\" alt=\"Open In Colab\"/></a>"
      ]
    },
    {
      "cell_type": "code",
      "execution_count": 7,
      "metadata": {
        "colab": {
          "base_uri": "https://localhost:8080/"
        },
        "id": "9WAIJoWeGaJA",
        "outputId": "15504598-cb69-4e99-8d27-7069700949e6"
      },
      "outputs": [
        {
          "output_type": "stream",
          "name": "stdout",
          "text": [
            "Keep looking buddy\n",
            "Hey I found Italy!\n",
            "Keep looking buddy\n",
            "Keep looking buddy\n",
            "Keep looking buddy\n",
            "Keep looking buddy\n"
          ]
        }
      ],
      "source": [
        "#a list of countries, populating the variable called countries, if it were a reserved it would be blue\n",
        "countries = [\"Vietnam\",\"Italy\",\"Uzbekistan\",\"Spain\",\"United States\",\"Uruguay\"]\n",
        "lookfor = \"Italy\"\n",
        "\n",
        "#find_things is the defining of the function with 1 parameter (countries)\n",
        "# for is a loop that will take it apart, c will call each item and each country will be c\n",
        "def find_things(countries, lookfor):\n",
        "  for xyz in countries:\n",
        "    if (xyz == lookfor):\n",
        "      print(\"Hey I found \" + lookfor + \"!\")\n",
        "    else:\n",
        "        print(\"Keep looking buddy\")\n",
        "\n",
        "\n",
        "#find_things(countries,lookfor) also a way to do it\n",
        "find_things(countries,\"Italy\")\n",
        "#^^ this makes the function run"
      ]
    }
  ]
}