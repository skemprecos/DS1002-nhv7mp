{
  "nbformat": 4,
  "nbformat_minor": 0,
  "metadata": {
    "colab": {
      "provenance": [],
      "include_colab_link": true
    },
    "kernelspec": {
      "name": "ir",
      "display_name": "R"
    },
    "language_info": {
      "name": "R"
    }
  },
  "cells": [
    {
      "cell_type": "markdown",
      "metadata": {
        "id": "view-in-github",
        "colab_type": "text"
      },
      "source": [
        "<a href=\"https://colab.research.google.com/github/skemprecos/DS1002-nhv7mp/blob/main/homework/week-13.ipynb\" target=\"_parent\"><img src=\"https://colab.research.google.com/assets/colab-badge.svg\" alt=\"Open In Colab\"/></a>"
      ]
    },
    {
      "cell_type": "markdown",
      "source": [
        "# Homework - Week 13\n",
        "\n",
        "Complete the following blocks as specified in the directions. Run each cell to return the desired output. Save your notebook back to your GitHub repository and submit the GitHub URL to your notebook for review."
      ],
      "metadata": {
        "id": "sZruw3XQogej"
      }
    },
    {
      "cell_type": "markdown",
      "source": [
        "## 1. Change Runtime to R (1 pt)\n",
        "\n",
        "Change the runtime of this notebook to R. You can verify that you are running R by displaying the current version you are running. Run the cell below and show the output."
      ],
      "metadata": {
        "id": "KmpG99aAokL9"
      }
    },
    {
      "cell_type": "code",
      "execution_count": 1,
      "metadata": {
        "id": "k03Z1NKAoZrW",
        "colab": {
          "base_uri": "https://localhost:8080/",
          "height": 285
        },
        "outputId": "0103fbd3-658e-48b0-89d6-05abda229863"
      },
      "outputs": [
        {
          "output_type": "display_data",
          "data": {
            "text/plain": [
              "               _                           \n",
              "platform       x86_64-pc-linux-gnu         \n",
              "arch           x86_64                      \n",
              "os             linux-gnu                   \n",
              "system         x86_64, linux-gnu           \n",
              "status                                     \n",
              "major          4                           \n",
              "minor          3.2                         \n",
              "year           2023                        \n",
              "month          10                          \n",
              "day            31                          \n",
              "svn rev        85441                       \n",
              "language       R                           \n",
              "version.string R version 4.3.2 (2023-10-31)\n",
              "nickname       Eye Holes                   "
            ]
          },
          "metadata": {}
        }
      ],
      "source": [
        "version"
      ]
    },
    {
      "cell_type": "markdown",
      "source": [
        "## 2. Create Vectors (2 pts)\n",
        "\n",
        "Create two vectors in the cells below, according to the prompts given."
      ],
      "metadata": {
        "id": "lkaofBQypx1X"
      }
    },
    {
      "cell_type": "code",
      "source": [
        "# create a vector with 7 integer values. Assign it to a variable named \"my_integers\"\n",
        "my_integers <- c(1, 35, 47, 52, 60, 77, 81)"
      ],
      "metadata": {
        "id": "1fjq5bkEp6Zv"
      },
      "execution_count": 2,
      "outputs": []
    },
    {
      "cell_type": "code",
      "source": [
        "var1 = 8\n",
        "var2 = 4\n",
        "var3 = 12\n",
        "var4 = 25\n",
        "\n",
        "# Using the variables given above, assign three new variables the following calculated values:\n",
        "#\n",
        "# 1. Your first variable should be assigned the calculated value of var2 divided by var1.\n",
        "\n",
        "x <- var2 / var1\n",
        "\n",
        "# 2. Your second variable should be assigned the calculated value of var2 cubed times var3.\n",
        "y <- var2^3*var3\n",
        "\n",
        "# 3. Your third variable should be assigned the calculated value of var4 integer divided by var3.\n",
        "z <- var4 / var3\n",
        "\n",
        "# Next, create an array populated by your three variables. Assign the array to a new variable named \"my_calculated_values\"\n",
        "my_calculated_values <- c(x, y, z)\n",
        "my_calculated_values"
      ],
      "metadata": {
        "id": "f3IFD-T6p6Rd",
        "colab": {
          "base_uri": "https://localhost:8080/",
          "height": 34
        },
        "outputId": "e246c397-f8ae-4e66-f381-01d3e87495c2"
      },
      "execution_count": 3,
      "outputs": [
        {
          "output_type": "display_data",
          "data": {
            "text/html": [
              "<style>\n",
              ".list-inline {list-style: none; margin:0; padding: 0}\n",
              ".list-inline>li {display: inline-block}\n",
              ".list-inline>li:not(:last-child)::after {content: \"\\00b7\"; padding: 0 .5ex}\n",
              "</style>\n",
              "<ol class=list-inline><li>0.5</li><li>768</li><li>2.08333333333333</li></ol>\n"
            ],
            "text/markdown": "1. 0.5\n2. 768\n3. 2.08333333333333\n\n\n",
            "text/latex": "\\begin{enumerate*}\n\\item 0.5\n\\item 768\n\\item 2.08333333333333\n\\end{enumerate*}\n",
            "text/plain": [
              "[1]   0.500000 768.000000   2.083333"
            ]
          },
          "metadata": {}
        }
      ]
    },
    {
      "cell_type": "markdown",
      "source": [
        "## 3. Vector Indexes (3 pts)"
      ],
      "metadata": {
        "id": "F6Rx0GIGrpOB"
      }
    },
    {
      "cell_type": "markdown",
      "source": [
        "In the cell below, create a vector that starts with the integer 4, that increments by counts of 3 all the way to 28.\n",
        "\n",
        "Assign the vector to a variable name."
      ],
      "metadata": {
        "id": "IDLyOjOJsFCX"
      }
    },
    {
      "cell_type": "code",
      "source": [
        "#\n",
        "df <- seq(4, 28, by = 3)\n",
        "df"
      ],
      "metadata": {
        "id": "0D5Ia-BPsoPZ",
        "colab": {
          "base_uri": "https://localhost:8080/",
          "height": 34
        },
        "outputId": "787f1feb-a972-491b-a539-1076064ea51e"
      },
      "execution_count": 4,
      "outputs": [
        {
          "output_type": "display_data",
          "data": {
            "text/html": [
              "<style>\n",
              ".list-inline {list-style: none; margin:0; padding: 0}\n",
              ".list-inline>li {display: inline-block}\n",
              ".list-inline>li:not(:last-child)::after {content: \"\\00b7\"; padding: 0 .5ex}\n",
              "</style>\n",
              "<ol class=list-inline><li>4</li><li>7</li><li>10</li><li>13</li><li>16</li><li>19</li><li>22</li><li>25</li><li>28</li></ol>\n"
            ],
            "text/markdown": "1. 4\n2. 7\n3. 10\n4. 13\n5. 16\n6. 19\n7. 22\n8. 25\n9. 28\n\n\n",
            "text/latex": "\\begin{enumerate*}\n\\item 4\n\\item 7\n\\item 10\n\\item 13\n\\item 16\n\\item 19\n\\item 22\n\\item 25\n\\item 28\n\\end{enumerate*}\n",
            "text/plain": [
              "[1]  4  7 10 13 16 19 22 25 28"
            ]
          },
          "metadata": {}
        }
      ]
    },
    {
      "cell_type": "markdown",
      "source": [
        "Next, show how to display this vector with the 3 index removed."
      ],
      "metadata": {
        "id": "RxFRiRMvtfXI"
      }
    },
    {
      "cell_type": "code",
      "source": [
        "#\n",
        "df[-3]"
      ],
      "metadata": {
        "id": "MBg7V1LztQlv",
        "colab": {
          "base_uri": "https://localhost:8080/",
          "height": 34
        },
        "outputId": "526b7deb-446e-4045-b3f7-954e78a3f50f"
      },
      "execution_count": 5,
      "outputs": [
        {
          "output_type": "display_data",
          "data": {
            "text/html": [
              "<style>\n",
              ".list-inline {list-style: none; margin:0; padding: 0}\n",
              ".list-inline>li {display: inline-block}\n",
              ".list-inline>li:not(:last-child)::after {content: \"\\00b7\"; padding: 0 .5ex}\n",
              "</style>\n",
              "<ol class=list-inline><li>4</li><li>7</li><li>13</li><li>16</li><li>19</li><li>22</li><li>25</li><li>28</li></ol>\n"
            ],
            "text/markdown": "1. 4\n2. 7\n3. 13\n4. 16\n5. 19\n6. 22\n7. 25\n8. 28\n\n\n",
            "text/latex": "\\begin{enumerate*}\n\\item 4\n\\item 7\n\\item 13\n\\item 16\n\\item 19\n\\item 22\n\\item 25\n\\item 28\n\\end{enumerate*}\n",
            "text/plain": [
              "[1]  4  7 13 16 19 22 25 28"
            ]
          },
          "metadata": {}
        }
      ]
    },
    {
      "cell_type": "markdown",
      "source": [
        "Finally, show how to delete the 4th, 5th, and 7th indexes from the vector and update the vector so they are forever removed from the vector.\n",
        "\n",
        "Hint: there is a fairly simple way to do this in one line, such that you don't have to run a separate command for each removal."
      ],
      "metadata": {
        "id": "Rmci-rVCtq-C"
      }
    },
    {
      "cell_type": "code",
      "source": [
        "#\n",
        "df <- df[c(-4,-5,-7)]"
      ],
      "metadata": {
        "id": "y1k0NHNruFX2"
      },
      "execution_count": 6,
      "outputs": []
    },
    {
      "cell_type": "markdown",
      "source": [
        "## 4. Create a Data Frame (3 pts)\n",
        "\n",
        "In the cell below create a data frame with 10 observations (rows) and 5 variables (columns) each. This data frame will describe some of your favorite musical performers. You can use real or fictitious data to populate your data frame.\n",
        "\n",
        "Variables:\n",
        "  - `artist` - Artist or band name\n",
        "  - `category` - Rock, Pop, Country, Hip-hop, Jazz, Classical, Soul, Other. (Try to distribute your selections here)\n",
        "  - `size` - (number of members, 1-?)\n",
        "  - `start` - Debut year of artist.\n",
        "  - `grammy` - Grammmy winner? `TRUE` | `FALSE`\n",
        "\n",
        "First create vectors for each variable populated with your own performer data. Then create a data frame from these vectors (be sure to assign column names too) and assign it to a named variable such as `df`."
      ],
      "metadata": {
        "id": "-2ZaFcCCv3o8"
      }
    },
    {
      "cell_type": "code",
      "source": [
        "#\n",
        "artist <- c(\"Zach Bryan\", \"Houndmouth\", \"The Lumineers\",\n",
        "           \"Taylor Swift\", \"Adele\", \"Rainbow Kitten Surprise\",\n",
        "           \"Caamp\", \"Tyler Childers\", \"Shakey Graves\", \"Mac Miller\")\n",
        "category <- c(\"Country\", \"Alternative\", \"Alternative\", \"Pop\", \"Pop\",\n",
        "             \"Alternative\", \"Alternative\", \"Country\", \"Alternative\", \"Rap\")\n",
        "size <- c(1, 4, 3, 1, 1, 5, 3, 1, 1, 1)\n",
        "start <- c(2018, 2012, 2009, 2004, 2007, 2013, 2015, 2011, 2010, 2010)\n",
        "grammy <- c(\"No\", \"No\", \"No\", \"Yes\", \"Yes\", \"No\", \"No\", \"No\", \"No\", \"Yes\")\n",
        "\n",
        "music_taste <- data.frame(Artist = artist, Category = category, Size = size, Start = start, Grammy = grammy)\n",
        "music_taste"
      ],
      "metadata": {
        "id": "V4nBsdVsyauQ",
        "colab": {
          "base_uri": "https://localhost:8080/",
          "height": 412
        },
        "outputId": "101b8dcc-6d55-43f2-894b-dc323a3bbf4e"
      },
      "execution_count": 7,
      "outputs": [
        {
          "output_type": "display_data",
          "data": {
            "text/html": [
              "<table class=\"dataframe\">\n",
              "<caption>A data.frame: 10 × 5</caption>\n",
              "<thead>\n",
              "\t<tr><th scope=col>Artist</th><th scope=col>Category</th><th scope=col>Size</th><th scope=col>Start</th><th scope=col>Grammy</th></tr>\n",
              "\t<tr><th scope=col>&lt;chr&gt;</th><th scope=col>&lt;chr&gt;</th><th scope=col>&lt;dbl&gt;</th><th scope=col>&lt;dbl&gt;</th><th scope=col>&lt;chr&gt;</th></tr>\n",
              "</thead>\n",
              "<tbody>\n",
              "\t<tr><td>Zach Bryan             </td><td>Country    </td><td>1</td><td>2018</td><td>No </td></tr>\n",
              "\t<tr><td>Houndmouth             </td><td>Alternative</td><td>4</td><td>2012</td><td>No </td></tr>\n",
              "\t<tr><td>The Lumineers          </td><td>Alternative</td><td>3</td><td>2009</td><td>No </td></tr>\n",
              "\t<tr><td>Taylor Swift           </td><td>Pop        </td><td>1</td><td>2004</td><td>Yes</td></tr>\n",
              "\t<tr><td>Adele                  </td><td>Pop        </td><td>1</td><td>2007</td><td>Yes</td></tr>\n",
              "\t<tr><td>Rainbow Kitten Surprise</td><td>Alternative</td><td>5</td><td>2013</td><td>No </td></tr>\n",
              "\t<tr><td>Caamp                  </td><td>Alternative</td><td>3</td><td>2015</td><td>No </td></tr>\n",
              "\t<tr><td>Tyler Childers         </td><td>Country    </td><td>1</td><td>2011</td><td>No </td></tr>\n",
              "\t<tr><td>Shakey Graves          </td><td>Alternative</td><td>1</td><td>2010</td><td>No </td></tr>\n",
              "\t<tr><td>Mac Miller             </td><td>Rap        </td><td>1</td><td>2010</td><td>Yes</td></tr>\n",
              "</tbody>\n",
              "</table>\n"
            ],
            "text/markdown": "\nA data.frame: 10 × 5\n\n| Artist &lt;chr&gt; | Category &lt;chr&gt; | Size &lt;dbl&gt; | Start &lt;dbl&gt; | Grammy &lt;chr&gt; |\n|---|---|---|---|---|\n| Zach Bryan              | Country     | 1 | 2018 | No  |\n| Houndmouth              | Alternative | 4 | 2012 | No  |\n| The Lumineers           | Alternative | 3 | 2009 | No  |\n| Taylor Swift            | Pop         | 1 | 2004 | Yes |\n| Adele                   | Pop         | 1 | 2007 | Yes |\n| Rainbow Kitten Surprise | Alternative | 5 | 2013 | No  |\n| Caamp                   | Alternative | 3 | 2015 | No  |\n| Tyler Childers          | Country     | 1 | 2011 | No  |\n| Shakey Graves           | Alternative | 1 | 2010 | No  |\n| Mac Miller              | Rap         | 1 | 2010 | Yes |\n\n",
            "text/latex": "A data.frame: 10 × 5\n\\begin{tabular}{lllll}\n Artist & Category & Size & Start & Grammy\\\\\n <chr> & <chr> & <dbl> & <dbl> & <chr>\\\\\n\\hline\n\t Zach Bryan              & Country     & 1 & 2018 & No \\\\\n\t Houndmouth              & Alternative & 4 & 2012 & No \\\\\n\t The Lumineers           & Alternative & 3 & 2009 & No \\\\\n\t Taylor Swift            & Pop         & 1 & 2004 & Yes\\\\\n\t Adele                   & Pop         & 1 & 2007 & Yes\\\\\n\t Rainbow Kitten Surprise & Alternative & 5 & 2013 & No \\\\\n\t Caamp                   & Alternative & 3 & 2015 & No \\\\\n\t Tyler Childers          & Country     & 1 & 2011 & No \\\\\n\t Shakey Graves           & Alternative & 1 & 2010 & No \\\\\n\t Mac Miller              & Rap         & 1 & 2010 & Yes\\\\\n\\end{tabular}\n",
            "text/plain": [
              "   Artist                  Category    Size Start Grammy\n",
              "1  Zach Bryan              Country     1    2018  No    \n",
              "2  Houndmouth              Alternative 4    2012  No    \n",
              "3  The Lumineers           Alternative 3    2009  No    \n",
              "4  Taylor Swift            Pop         1    2004  Yes   \n",
              "5  Adele                   Pop         1    2007  Yes   \n",
              "6  Rainbow Kitten Surprise Alternative 5    2013  No    \n",
              "7  Caamp                   Alternative 3    2015  No    \n",
              "8  Tyler Childers          Country     1    2011  No    \n",
              "9  Shakey Graves           Alternative 1    2010  No    \n",
              "10 Mac Miller              Rap         1    2010  Yes   "
            ]
          },
          "metadata": {}
        }
      ]
    },
    {
      "cell_type": "markdown",
      "source": [
        "## 5. Filter/Query a Data Frame (2 pts)\n",
        "\n",
        "Use the data frame you created above and show how to perform the following queries."
      ],
      "metadata": {
        "id": "nG5m-FIRydNU"
      }
    },
    {
      "cell_type": "code",
      "source": [
        "# Display the first 3 records and only the `artist`, `category` and `grammy` columns for each.\n",
        "music_taste[ 1:3, -(3:4)]"
      ],
      "metadata": {
        "id": "OlmbfFi6zSgR",
        "colab": {
          "base_uri": "https://localhost:8080/",
          "height": 192
        },
        "outputId": "0112b73b-0b07-4396-e789-201e2bf9add0"
      },
      "execution_count": 11,
      "outputs": [
        {
          "output_type": "display_data",
          "data": {
            "text/html": [
              "<table class=\"dataframe\">\n",
              "<caption>A data.frame: 3 × 3</caption>\n",
              "<thead>\n",
              "\t<tr><th></th><th scope=col>Artist</th><th scope=col>Category</th><th scope=col>Grammy</th></tr>\n",
              "\t<tr><th></th><th scope=col>&lt;chr&gt;</th><th scope=col>&lt;chr&gt;</th><th scope=col>&lt;chr&gt;</th></tr>\n",
              "</thead>\n",
              "<tbody>\n",
              "\t<tr><th scope=row>1</th><td>Zach Bryan   </td><td>Country    </td><td>No</td></tr>\n",
              "\t<tr><th scope=row>2</th><td>Houndmouth   </td><td>Alternative</td><td>No</td></tr>\n",
              "\t<tr><th scope=row>3</th><td>The Lumineers</td><td>Alternative</td><td>No</td></tr>\n",
              "</tbody>\n",
              "</table>\n"
            ],
            "text/markdown": "\nA data.frame: 3 × 3\n\n| <!--/--> | Artist &lt;chr&gt; | Category &lt;chr&gt; | Grammy &lt;chr&gt; |\n|---|---|---|---|\n| 1 | Zach Bryan    | Country     | No |\n| 2 | Houndmouth    | Alternative | No |\n| 3 | The Lumineers | Alternative | No |\n\n",
            "text/latex": "A data.frame: 3 × 3\n\\begin{tabular}{r|lll}\n  & Artist & Category & Grammy\\\\\n  & <chr> & <chr> & <chr>\\\\\n\\hline\n\t1 & Zach Bryan    & Country     & No\\\\\n\t2 & Houndmouth    & Alternative & No\\\\\n\t3 & The Lumineers & Alternative & No\\\\\n\\end{tabular}\n",
            "text/plain": [
              "  Artist        Category    Grammy\n",
              "1 Zach Bryan    Country     No    \n",
              "2 Houndmouth    Alternative No    \n",
              "3 The Lumineers Alternative No    "
            ]
          },
          "metadata": {}
        }
      ]
    },
    {
      "cell_type": "code",
      "source": [
        "# Display the records for just one musical category, such as only Rock bands or only Hip-hop bands.\n",
        "music_taste[music_taste$Category == \"Country\", ]"
      ],
      "metadata": {
        "id": "-l_kpWSzzlhG",
        "colab": {
          "base_uri": "https://localhost:8080/",
          "height": 161
        },
        "outputId": "92570a8e-327a-4e5b-bcb2-7a9caebdd2ec"
      },
      "execution_count": 15,
      "outputs": [
        {
          "output_type": "display_data",
          "data": {
            "text/html": [
              "<table class=\"dataframe\">\n",
              "<caption>A data.frame: 2 × 5</caption>\n",
              "<thead>\n",
              "\t<tr><th></th><th scope=col>Artist</th><th scope=col>Category</th><th scope=col>Size</th><th scope=col>Start</th><th scope=col>Grammy</th></tr>\n",
              "\t<tr><th></th><th scope=col>&lt;chr&gt;</th><th scope=col>&lt;chr&gt;</th><th scope=col>&lt;dbl&gt;</th><th scope=col>&lt;dbl&gt;</th><th scope=col>&lt;chr&gt;</th></tr>\n",
              "</thead>\n",
              "<tbody>\n",
              "\t<tr><th scope=row>1</th><td>Zach Bryan    </td><td>Country</td><td>1</td><td>2018</td><td>No</td></tr>\n",
              "\t<tr><th scope=row>8</th><td>Tyler Childers</td><td>Country</td><td>1</td><td>2011</td><td>No</td></tr>\n",
              "</tbody>\n",
              "</table>\n"
            ],
            "text/markdown": "\nA data.frame: 2 × 5\n\n| <!--/--> | Artist &lt;chr&gt; | Category &lt;chr&gt; | Size &lt;dbl&gt; | Start &lt;dbl&gt; | Grammy &lt;chr&gt; |\n|---|---|---|---|---|---|\n| 1 | Zach Bryan     | Country | 1 | 2018 | No |\n| 8 | Tyler Childers | Country | 1 | 2011 | No |\n\n",
            "text/latex": "A data.frame: 2 × 5\n\\begin{tabular}{r|lllll}\n  & Artist & Category & Size & Start & Grammy\\\\\n  & <chr> & <chr> & <dbl> & <dbl> & <chr>\\\\\n\\hline\n\t1 & Zach Bryan     & Country & 1 & 2018 & No\\\\\n\t8 & Tyler Childers & Country & 1 & 2011 & No\\\\\n\\end{tabular}\n",
            "text/plain": [
              "  Artist         Category Size Start Grammy\n",
              "1 Zach Bryan     Country  1    2018  No    \n",
              "8 Tyler Childers Country  1    2011  No    "
            ]
          },
          "metadata": {}
        }
      ]
    },
    {
      "cell_type": "markdown",
      "source": [
        "## Query a Data Frame using `tidyverse` (4 pts)\n",
        "\n",
        "1. Show how to load the library.\n",
        "2. Show how to glimpse basic features of the `starwars` data table.\n",
        "3. Create a query using tidyverse that retrieves the following data:\n",
        "    - Selects only these columns: `name`, `height`, `sex`, `species`.\n",
        "    - Filters for all species that are NOT Human.\n",
        "    - Arranges the resulting data in order by name.\n",
        "\n",
        "Show your output in a data frame."
      ],
      "metadata": {
        "id": "L-xnszjS0Byy"
      }
    },
    {
      "cell_type": "code",
      "source": [
        "install.packages(\"tidyverse\")\n",
        "library(tidyverse)\n",
        "\n",
        "\n",
        "starwars %>%\n",
        "  select(name, height, sex, species) %>%\n",
        "  filter(species != \"Human\") %>%\n",
        "  arrange(name)\n",
        ""
      ],
      "metadata": {
        "id": "yTMLzrxS0F4u",
        "colab": {
          "base_uri": "https://localhost:8080/",
          "height": 1000
        },
        "outputId": "152ddd35-01ea-4a6d-cd23-78e0539cb520"
      },
      "execution_count": 21,
      "outputs": [
        {
          "output_type": "stream",
          "name": "stderr",
          "text": [
            "Installing package into ‘/usr/local/lib/R/site-library’\n",
            "(as ‘lib’ is unspecified)\n",
            "\n"
          ]
        },
        {
          "output_type": "display_data",
          "data": {
            "text/html": [
              "<table class=\"dataframe\">\n",
              "<caption>A tibble: 48 × 4</caption>\n",
              "<thead>\n",
              "\t<tr><th scope=col>name</th><th scope=col>height</th><th scope=col>sex</th><th scope=col>species</th></tr>\n",
              "\t<tr><th scope=col>&lt;chr&gt;</th><th scope=col>&lt;int&gt;</th><th scope=col>&lt;chr&gt;</th><th scope=col>&lt;chr&gt;</th></tr>\n",
              "</thead>\n",
              "<tbody>\n",
              "\t<tr><td>Ackbar               </td><td>180</td><td>male          </td><td>Mon Calamari  </td></tr>\n",
              "\t<tr><td>Adi Gallia           </td><td>184</td><td>female        </td><td>Tholothian    </td></tr>\n",
              "\t<tr><td>Ayla Secura          </td><td>178</td><td>female        </td><td>Twi'lek       </td></tr>\n",
              "\t<tr><td>BB8                  </td><td> NA</td><td>none          </td><td>Droid         </td></tr>\n",
              "\t<tr><td>Barriss Offee        </td><td>166</td><td>female        </td><td>Mirialan      </td></tr>\n",
              "\t<tr><td>Ben Quadinaros       </td><td>163</td><td>male          </td><td>Toong         </td></tr>\n",
              "\t<tr><td>Bib Fortuna          </td><td>180</td><td>male          </td><td>Twi'lek       </td></tr>\n",
              "\t<tr><td>Bossk                </td><td>190</td><td>male          </td><td>Trandoshan    </td></tr>\n",
              "\t<tr><td>C-3PO                </td><td>167</td><td>none          </td><td>Droid         </td></tr>\n",
              "\t<tr><td>Chewbacca            </td><td>228</td><td>male          </td><td>Wookiee       </td></tr>\n",
              "\t<tr><td>Darth Maul           </td><td>175</td><td>male          </td><td>Zabrak        </td></tr>\n",
              "\t<tr><td>Dexter Jettster      </td><td>198</td><td>male          </td><td>Besalisk      </td></tr>\n",
              "\t<tr><td>Dud Bolt             </td><td> 94</td><td>male          </td><td>Vulptereen    </td></tr>\n",
              "\t<tr><td>Eeth Koth            </td><td>171</td><td>male          </td><td>Zabrak        </td></tr>\n",
              "\t<tr><td>Gasgano              </td><td>122</td><td>male          </td><td>Xexto         </td></tr>\n",
              "\t<tr><td>Greedo               </td><td>173</td><td>male          </td><td>Rodian        </td></tr>\n",
              "\t<tr><td>Grievous             </td><td>216</td><td>male          </td><td>Kaleesh       </td></tr>\n",
              "\t<tr><td>IG-88                </td><td>200</td><td>none          </td><td>Droid         </td></tr>\n",
              "\t<tr><td>Jabba Desilijic Tiure</td><td>175</td><td>hermaphroditic</td><td>Hutt          </td></tr>\n",
              "\t<tr><td>Jar Jar Binks        </td><td>196</td><td>male          </td><td>Gungan        </td></tr>\n",
              "\t<tr><td>Ki-Adi-Mundi         </td><td>198</td><td>male          </td><td>Cerean        </td></tr>\n",
              "\t<tr><td>Kit Fisto            </td><td>196</td><td>male          </td><td>Nautolan      </td></tr>\n",
              "\t<tr><td>Lama Su              </td><td>229</td><td>male          </td><td>Kaminoan      </td></tr>\n",
              "\t<tr><td>Luminara Unduli      </td><td>170</td><td>female        </td><td>Mirialan      </td></tr>\n",
              "\t<tr><td>Mas Amedda           </td><td>196</td><td>male          </td><td>Chagrian      </td></tr>\n",
              "\t<tr><td>Nien Nunb            </td><td>160</td><td>male          </td><td>Sullustan     </td></tr>\n",
              "\t<tr><td>Nute Gunray          </td><td>191</td><td>male          </td><td>Neimodian     </td></tr>\n",
              "\t<tr><td>Plo Koon             </td><td>188</td><td>male          </td><td>Kel Dor       </td></tr>\n",
              "\t<tr><td>Poggle the Lesser    </td><td>183</td><td>male          </td><td>Geonosian     </td></tr>\n",
              "\t<tr><td>R2-D2                </td><td> 96</td><td>none          </td><td>Droid         </td></tr>\n",
              "\t<tr><td>R4-P17               </td><td> 96</td><td>none          </td><td>Droid         </td></tr>\n",
              "\t<tr><td>R5-D4                </td><td> 97</td><td>none          </td><td>Droid         </td></tr>\n",
              "\t<tr><td>Ratts Tyerell        </td><td> 79</td><td>male          </td><td>Aleena        </td></tr>\n",
              "\t<tr><td>Roos Tarpals         </td><td>224</td><td>male          </td><td>Gungan        </td></tr>\n",
              "\t<tr><td>Rugor Nass           </td><td>206</td><td>male          </td><td>Gungan        </td></tr>\n",
              "\t<tr><td>Saesee Tiin          </td><td>188</td><td>male          </td><td>Iktotchi      </td></tr>\n",
              "\t<tr><td>San Hill             </td><td>191</td><td>male          </td><td>Muun          </td></tr>\n",
              "\t<tr><td>Sebulba              </td><td>112</td><td>male          </td><td>Dug           </td></tr>\n",
              "\t<tr><td>Shaak Ti             </td><td>178</td><td>female        </td><td>Togruta       </td></tr>\n",
              "\t<tr><td>Tarfful              </td><td>234</td><td>male          </td><td>Wookiee       </td></tr>\n",
              "\t<tr><td>Taun We              </td><td>213</td><td>female        </td><td>Kaminoan      </td></tr>\n",
              "\t<tr><td>Tion Medon           </td><td>206</td><td>male          </td><td>Pau'an        </td></tr>\n",
              "\t<tr><td>Wat Tambor           </td><td>193</td><td>male          </td><td>Skakoan       </td></tr>\n",
              "\t<tr><td>Watto                </td><td>137</td><td>male          </td><td>Toydarian     </td></tr>\n",
              "\t<tr><td>Wicket Systri Warrick</td><td> 88</td><td>male          </td><td>Ewok          </td></tr>\n",
              "\t<tr><td>Yarael Poof          </td><td>264</td><td>male          </td><td>Quermian      </td></tr>\n",
              "\t<tr><td>Yoda                 </td><td> 66</td><td>male          </td><td>Yoda's species</td></tr>\n",
              "\t<tr><td>Zam Wesell           </td><td>168</td><td>female        </td><td>Clawdite      </td></tr>\n",
              "</tbody>\n",
              "</table>\n"
            ],
            "text/markdown": "\nA tibble: 48 × 4\n\n| name &lt;chr&gt; | height &lt;int&gt; | sex &lt;chr&gt; | species &lt;chr&gt; |\n|---|---|---|---|\n| Ackbar                | 180 | male           | Mon Calamari   |\n| Adi Gallia            | 184 | female         | Tholothian     |\n| Ayla Secura           | 178 | female         | Twi'lek        |\n| BB8                   |  NA | none           | Droid          |\n| Barriss Offee         | 166 | female         | Mirialan       |\n| Ben Quadinaros        | 163 | male           | Toong          |\n| Bib Fortuna           | 180 | male           | Twi'lek        |\n| Bossk                 | 190 | male           | Trandoshan     |\n| C-3PO                 | 167 | none           | Droid          |\n| Chewbacca             | 228 | male           | Wookiee        |\n| Darth Maul            | 175 | male           | Zabrak         |\n| Dexter Jettster       | 198 | male           | Besalisk       |\n| Dud Bolt              |  94 | male           | Vulptereen     |\n| Eeth Koth             | 171 | male           | Zabrak         |\n| Gasgano               | 122 | male           | Xexto          |\n| Greedo                | 173 | male           | Rodian         |\n| Grievous              | 216 | male           | Kaleesh        |\n| IG-88                 | 200 | none           | Droid          |\n| Jabba Desilijic Tiure | 175 | hermaphroditic | Hutt           |\n| Jar Jar Binks         | 196 | male           | Gungan         |\n| Ki-Adi-Mundi          | 198 | male           | Cerean         |\n| Kit Fisto             | 196 | male           | Nautolan       |\n| Lama Su               | 229 | male           | Kaminoan       |\n| Luminara Unduli       | 170 | female         | Mirialan       |\n| Mas Amedda            | 196 | male           | Chagrian       |\n| Nien Nunb             | 160 | male           | Sullustan      |\n| Nute Gunray           | 191 | male           | Neimodian      |\n| Plo Koon              | 188 | male           | Kel Dor        |\n| Poggle the Lesser     | 183 | male           | Geonosian      |\n| R2-D2                 |  96 | none           | Droid          |\n| R4-P17                |  96 | none           | Droid          |\n| R5-D4                 |  97 | none           | Droid          |\n| Ratts Tyerell         |  79 | male           | Aleena         |\n| Roos Tarpals          | 224 | male           | Gungan         |\n| Rugor Nass            | 206 | male           | Gungan         |\n| Saesee Tiin           | 188 | male           | Iktotchi       |\n| San Hill              | 191 | male           | Muun           |\n| Sebulba               | 112 | male           | Dug            |\n| Shaak Ti              | 178 | female         | Togruta        |\n| Tarfful               | 234 | male           | Wookiee        |\n| Taun We               | 213 | female         | Kaminoan       |\n| Tion Medon            | 206 | male           | Pau'an         |\n| Wat Tambor            | 193 | male           | Skakoan        |\n| Watto                 | 137 | male           | Toydarian      |\n| Wicket Systri Warrick |  88 | male           | Ewok           |\n| Yarael Poof           | 264 | male           | Quermian       |\n| Yoda                  |  66 | male           | Yoda's species |\n| Zam Wesell            | 168 | female         | Clawdite       |\n\n",
            "text/latex": "A tibble: 48 × 4\n\\begin{tabular}{llll}\n name & height & sex & species\\\\\n <chr> & <int> & <chr> & <chr>\\\\\n\\hline\n\t Ackbar                & 180 & male           & Mon Calamari  \\\\\n\t Adi Gallia            & 184 & female         & Tholothian    \\\\\n\t Ayla Secura           & 178 & female         & Twi'lek       \\\\\n\t BB8                   &  NA & none           & Droid         \\\\\n\t Barriss Offee         & 166 & female         & Mirialan      \\\\\n\t Ben Quadinaros        & 163 & male           & Toong         \\\\\n\t Bib Fortuna           & 180 & male           & Twi'lek       \\\\\n\t Bossk                 & 190 & male           & Trandoshan    \\\\\n\t C-3PO                 & 167 & none           & Droid         \\\\\n\t Chewbacca             & 228 & male           & Wookiee       \\\\\n\t Darth Maul            & 175 & male           & Zabrak        \\\\\n\t Dexter Jettster       & 198 & male           & Besalisk      \\\\\n\t Dud Bolt              &  94 & male           & Vulptereen    \\\\\n\t Eeth Koth             & 171 & male           & Zabrak        \\\\\n\t Gasgano               & 122 & male           & Xexto         \\\\\n\t Greedo                & 173 & male           & Rodian        \\\\\n\t Grievous              & 216 & male           & Kaleesh       \\\\\n\t IG-88                 & 200 & none           & Droid         \\\\\n\t Jabba Desilijic Tiure & 175 & hermaphroditic & Hutt          \\\\\n\t Jar Jar Binks         & 196 & male           & Gungan        \\\\\n\t Ki-Adi-Mundi          & 198 & male           & Cerean        \\\\\n\t Kit Fisto             & 196 & male           & Nautolan      \\\\\n\t Lama Su               & 229 & male           & Kaminoan      \\\\\n\t Luminara Unduli       & 170 & female         & Mirialan      \\\\\n\t Mas Amedda            & 196 & male           & Chagrian      \\\\\n\t Nien Nunb             & 160 & male           & Sullustan     \\\\\n\t Nute Gunray           & 191 & male           & Neimodian     \\\\\n\t Plo Koon              & 188 & male           & Kel Dor       \\\\\n\t Poggle the Lesser     & 183 & male           & Geonosian     \\\\\n\t R2-D2                 &  96 & none           & Droid         \\\\\n\t R4-P17                &  96 & none           & Droid         \\\\\n\t R5-D4                 &  97 & none           & Droid         \\\\\n\t Ratts Tyerell         &  79 & male           & Aleena        \\\\\n\t Roos Tarpals          & 224 & male           & Gungan        \\\\\n\t Rugor Nass            & 206 & male           & Gungan        \\\\\n\t Saesee Tiin           & 188 & male           & Iktotchi      \\\\\n\t San Hill              & 191 & male           & Muun          \\\\\n\t Sebulba               & 112 & male           & Dug           \\\\\n\t Shaak Ti              & 178 & female         & Togruta       \\\\\n\t Tarfful               & 234 & male           & Wookiee       \\\\\n\t Taun We               & 213 & female         & Kaminoan      \\\\\n\t Tion Medon            & 206 & male           & Pau'an        \\\\\n\t Wat Tambor            & 193 & male           & Skakoan       \\\\\n\t Watto                 & 137 & male           & Toydarian     \\\\\n\t Wicket Systri Warrick &  88 & male           & Ewok          \\\\\n\t Yarael Poof           & 264 & male           & Quermian      \\\\\n\t Yoda                  &  66 & male           & Yoda's species\\\\\n\t Zam Wesell            & 168 & female         & Clawdite      \\\\\n\\end{tabular}\n",
            "text/plain": [
              "   name                  height sex            species       \n",
              "1  Ackbar                180    male           Mon Calamari  \n",
              "2  Adi Gallia            184    female         Tholothian    \n",
              "3  Ayla Secura           178    female         Twi'lek       \n",
              "4  BB8                    NA    none           Droid         \n",
              "5  Barriss Offee         166    female         Mirialan      \n",
              "6  Ben Quadinaros        163    male           Toong         \n",
              "7  Bib Fortuna           180    male           Twi'lek       \n",
              "8  Bossk                 190    male           Trandoshan    \n",
              "9  C-3PO                 167    none           Droid         \n",
              "10 Chewbacca             228    male           Wookiee       \n",
              "11 Darth Maul            175    male           Zabrak        \n",
              "12 Dexter Jettster       198    male           Besalisk      \n",
              "13 Dud Bolt               94    male           Vulptereen    \n",
              "14 Eeth Koth             171    male           Zabrak        \n",
              "15 Gasgano               122    male           Xexto         \n",
              "16 Greedo                173    male           Rodian        \n",
              "17 Grievous              216    male           Kaleesh       \n",
              "18 IG-88                 200    none           Droid         \n",
              "19 Jabba Desilijic Tiure 175    hermaphroditic Hutt          \n",
              "20 Jar Jar Binks         196    male           Gungan        \n",
              "21 Ki-Adi-Mundi          198    male           Cerean        \n",
              "22 Kit Fisto             196    male           Nautolan      \n",
              "23 Lama Su               229    male           Kaminoan      \n",
              "24 Luminara Unduli       170    female         Mirialan      \n",
              "25 Mas Amedda            196    male           Chagrian      \n",
              "26 Nien Nunb             160    male           Sullustan     \n",
              "27 Nute Gunray           191    male           Neimodian     \n",
              "28 Plo Koon              188    male           Kel Dor       \n",
              "29 Poggle the Lesser     183    male           Geonosian     \n",
              "30 R2-D2                  96    none           Droid         \n",
              "31 R4-P17                 96    none           Droid         \n",
              "32 R5-D4                  97    none           Droid         \n",
              "33 Ratts Tyerell          79    male           Aleena        \n",
              "34 Roos Tarpals          224    male           Gungan        \n",
              "35 Rugor Nass            206    male           Gungan        \n",
              "36 Saesee Tiin           188    male           Iktotchi      \n",
              "37 San Hill              191    male           Muun          \n",
              "38 Sebulba               112    male           Dug           \n",
              "39 Shaak Ti              178    female         Togruta       \n",
              "40 Tarfful               234    male           Wookiee       \n",
              "41 Taun We               213    female         Kaminoan      \n",
              "42 Tion Medon            206    male           Pau'an        \n",
              "43 Wat Tambor            193    male           Skakoan       \n",
              "44 Watto                 137    male           Toydarian     \n",
              "45 Wicket Systri Warrick  88    male           Ewok          \n",
              "46 Yarael Poof           264    male           Quermian      \n",
              "47 Yoda                   66    male           Yoda's species\n",
              "48 Zam Wesell            168    female         Clawdite      "
            ]
          },
          "metadata": {}
        }
      ]
    }
  ]
}